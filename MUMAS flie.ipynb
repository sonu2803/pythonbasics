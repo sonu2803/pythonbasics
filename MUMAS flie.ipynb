{
 "cells": [
  {
   "cell_type": "code",
   "execution_count": 1,
   "id": "ce51502b",
   "metadata": {},
   "outputs": [],
   "source": [
    "a=10"
   ]
  },
  {
   "cell_type": "code",
   "execution_count": 2,
   "id": "62feea50",
   "metadata": {},
   "outputs": [],
   "source": [
    "b=5"
   ]
  },
  {
   "cell_type": "code",
   "execution_count": 3,
   "id": "d7842f51",
   "metadata": {},
   "outputs": [
    {
     "name": "stdout",
     "output_type": "stream",
     "text": [
      "True\n"
     ]
    }
   ],
   "source": [
    "print(a>b)"
   ]
  },
  {
   "cell_type": "code",
   "execution_count": 4,
   "id": "5f3cbd4c",
   "metadata": {},
   "outputs": [
    {
     "name": "stdout",
     "output_type": "stream",
     "text": [
      "False\n"
     ]
    }
   ],
   "source": [
    "print(a<b)"
   ]
  },
  {
   "cell_type": "code",
   "execution_count": 7,
   "id": "87673166",
   "metadata": {},
   "outputs": [],
   "source": [
    "car=800000"
   ]
  },
  {
   "cell_type": "code",
   "execution_count": 8,
   "id": "fc78e54a",
   "metadata": {},
   "outputs": [],
   "source": [
    "bike=20000"
   ]
  },
  {
   "cell_type": "code",
   "execution_count": 9,
   "id": "198eefa2",
   "metadata": {},
   "outputs": [
    {
     "name": "stdout",
     "output_type": "stream",
     "text": [
      "False\n"
     ]
    }
   ],
   "source": [
    "print(bike>car)"
   ]
  },
  {
   "cell_type": "code",
   "execution_count": 10,
   "id": "dcc90ce9",
   "metadata": {},
   "outputs": [
    {
     "name": "stdout",
     "output_type": "stream",
     "text": [
      "True\n"
     ]
    }
   ],
   "source": [
    "print(bike<car)"
   ]
  },
  {
   "cell_type": "code",
   "execution_count": 11,
   "id": "206a1b65",
   "metadata": {},
   "outputs": [],
   "source": [
    "realme=12000"
   ]
  },
  {
   "cell_type": "code",
   "execution_count": 12,
   "id": "cf87f88e",
   "metadata": {},
   "outputs": [],
   "source": [
    "oneplus=20000"
   ]
  },
  {
   "cell_type": "code",
   "execution_count": 13,
   "id": "012dc132",
   "metadata": {},
   "outputs": [
    {
     "name": "stdout",
     "output_type": "stream",
     "text": [
      "False\n"
     ]
    }
   ],
   "source": [
    "print(realme>oneplus)"
   ]
  },
  {
   "cell_type": "code",
   "execution_count": null,
   "id": "7e044330",
   "metadata": {},
   "outputs": [],
   "source": [
    "+,-,*,/,%\n"
   ]
  },
  {
   "cell_type": "code",
   "execution_count": 26,
   "id": "8883108f",
   "metadata": {},
   "outputs": [],
   "source": [
    "a=20000\n",
    "b=40000\n",
    "c=60000\n",
    "d=80000\n",
    "\n"
   ]
  },
  {
   "cell_type": "code",
   "execution_count": 39,
   "id": "5f1eb457",
   "metadata": {},
   "outputs": [
    {
     "data": {
      "text/plain": [
       "-20000"
      ]
     },
     "execution_count": 39,
     "metadata": {},
     "output_type": "execute_result"
    }
   ],
   "source": [
    "a+b-d"
   ]
  },
  {
   "cell_type": "code",
   "execution_count": 29,
   "id": "3ca107d0",
   "metadata": {},
   "outputs": [
    {
     "data": {
      "text/plain": [
       "40000"
      ]
     },
     "execution_count": 29,
     "metadata": {},
     "output_type": "execute_result"
    }
   ],
   "source": [
    "a-b+c"
   ]
  },
  {
   "cell_type": "code",
   "execution_count": 32,
   "id": "97f36358",
   "metadata": {},
   "outputs": [
    {
     "data": {
      "text/plain": [
       "-40000"
      ]
     },
     "execution_count": 32,
     "metadata": {},
     "output_type": "execute_result"
    }
   ],
   "source": [
    "a-b+c-d"
   ]
  },
  {
   "cell_type": "code",
   "execution_count": 38,
   "id": "d1d52926",
   "metadata": {},
   "outputs": [
    {
     "data": {
      "text/plain": [
       "20000"
      ]
     },
     "execution_count": 38,
     "metadata": {},
     "output_type": "execute_result"
    }
   ],
   "source": [
    "a%c"
   ]
  },
  {
   "cell_type": "code",
   "execution_count": 40,
   "id": "402b7060",
   "metadata": {},
   "outputs": [
    {
     "data": {
      "text/plain": [
       "20000"
      ]
     },
     "execution_count": 40,
     "metadata": {},
     "output_type": "execute_result"
    }
   ],
   "source": [
    "a%b"
   ]
  },
  {
   "cell_type": "code",
   "execution_count": 46,
   "id": "4cd62b06",
   "metadata": {},
   "outputs": [
    {
     "data": {
      "text/plain": [
       "20000"
      ]
     },
     "execution_count": 46,
     "metadata": {},
     "output_type": "execute_result"
    }
   ],
   "source": [
    "a%b"
   ]
  },
  {
   "cell_type": "code",
   "execution_count": 48,
   "id": "872bb031",
   "metadata": {},
   "outputs": [
    {
     "data": {
      "text/plain": [
       "4000.0"
      ]
     },
     "execution_count": 48,
     "metadata": {},
     "output_type": "execute_result"
    }
   ],
   "source": [
    "a*20/100"
   ]
  },
  {
   "cell_type": "code",
   "execution_count": 49,
   "id": "bd3d1d4f",
   "metadata": {},
   "outputs": [
    {
     "data": {
      "text/plain": [
       "0.5"
      ]
     },
     "execution_count": 49,
     "metadata": {},
     "output_type": "execute_result"
    }
   ],
   "source": [
    "a/b"
   ]
  },
  {
   "cell_type": "code",
   "execution_count": 50,
   "id": "ec6830ab",
   "metadata": {},
   "outputs": [
    {
     "name": "stdout",
     "output_type": "stream",
     "text": [
      "we are adding car and bike variable\n"
     ]
    }
   ],
   "source": [
    "print(\"we are adding car and bike variable\")"
   ]
  },
  {
   "cell_type": "code",
   "execution_count": 52,
   "id": "c3122603",
   "metadata": {},
   "outputs": [],
   "source": [
    "car=10\n",
    "bike=100"
   ]
  },
  {
   "cell_type": "code",
   "execution_count": 54,
   "id": "014cc051",
   "metadata": {},
   "outputs": [],
   "source": [
    "book=car=bike"
   ]
  },
  {
   "cell_type": "code",
   "execution_count": 55,
   "id": "076da121",
   "metadata": {},
   "outputs": [
    {
     "name": "stdout",
     "output_type": "stream",
     "text": [
      "here we are concatination of car and bike:value of car is:- 100\n"
     ]
    }
   ],
   "source": [
    "print(\"here we are concatination of car and bike:value of car is:-\",book)"
   ]
  },
  {
   "cell_type": "code",
   "execution_count": 56,
   "id": "b027f173",
   "metadata": {},
   "outputs": [],
   "source": [
    "a=40\n",
    "car=20\n",
    "value=a*car\n",
    "value1=a+car\n",
    "value2=a-car\n",
    "value3=a/car\n",
    "value4=a%car"
   ]
  },
  {
   "cell_type": "code",
   "execution_count": 57,
   "id": "2ff74882",
   "metadata": {},
   "outputs": [
    {
     "name": "stdout",
     "output_type": "stream",
     "text": [
      "800\n"
     ]
    }
   ],
   "source": [
    "print(a*car)"
   ]
  },
  {
   "cell_type": "code",
   "execution_count": 58,
   "id": "89e6d61a",
   "metadata": {},
   "outputs": [
    {
     "name": "stdout",
     "output_type": "stream",
     "text": [
      "60\n"
     ]
    }
   ],
   "source": [
    "print(a+car)"
   ]
  },
  {
   "cell_type": "code",
   "execution_count": 59,
   "id": "d3e501cc",
   "metadata": {},
   "outputs": [
    {
     "name": "stdout",
     "output_type": "stream",
     "text": [
      "20\n"
     ]
    }
   ],
   "source": [
    "print(a-car)"
   ]
  },
  {
   "cell_type": "code",
   "execution_count": 60,
   "id": "9af640eb",
   "metadata": {},
   "outputs": [
    {
     "name": "stdout",
     "output_type": "stream",
     "text": [
      "2.0\n"
     ]
    }
   ],
   "source": [
    "print(a/car)"
   ]
  },
  {
   "cell_type": "code",
   "execution_count": 61,
   "id": "7b9617ef",
   "metadata": {},
   "outputs": [
    {
     "name": "stdout",
     "output_type": "stream",
     "text": [
      "0\n"
     ]
    }
   ],
   "source": [
    "print(a%car)"
   ]
  },
  {
   "cell_type": "markdown",
   "id": "6b5d1827",
   "metadata": {},
   "source": [
    "heading"
   ]
  },
  {
   "cell_type": "code",
   "execution_count": 62,
   "id": "454e8098",
   "metadata": {},
   "outputs": [],
   "source": [
    "t=(1,2,3,4,\"praneeth\")"
   ]
  },
  {
   "cell_type": "code",
   "execution_count": 64,
   "id": "dced58f9",
   "metadata": {},
   "outputs": [],
   "source": [
    "b=list(t)"
   ]
  },
  {
   "cell_type": "code",
   "execution_count": 65,
   "id": "19f5fd0e",
   "metadata": {},
   "outputs": [
    {
     "data": {
      "text/plain": [
       "list"
      ]
     },
     "execution_count": 65,
     "metadata": {},
     "output_type": "execute_result"
    }
   ],
   "source": [
    "type(b)"
   ]
  },
  {
   "cell_type": "code",
   "execution_count": 66,
   "id": "bd26a7e0",
   "metadata": {},
   "outputs": [
    {
     "data": {
      "text/plain": [
       "[1, 2, 3, 4, 'praneeth']"
      ]
     },
     "execution_count": 66,
     "metadata": {},
     "output_type": "execute_result"
    }
   ],
   "source": [
    "list(t)"
   ]
  },
  {
   "cell_type": "code",
   "execution_count": null,
   "id": "b0c9ae8f",
   "metadata": {},
   "outputs": [],
   "source": []
  }
 ],
 "metadata": {
  "kernelspec": {
   "display_name": "Python 3 (ipykernel)",
   "language": "python",
   "name": "python3"
  },
  "language_info": {
   "codemirror_mode": {
    "name": "ipython",
    "version": 3
   },
   "file_extension": ".py",
   "mimetype": "text/x-python",
   "name": "python",
   "nbconvert_exporter": "python",
   "pygments_lexer": "ipython3",
   "version": "3.10.9"
  }
 },
 "nbformat": 4,
 "nbformat_minor": 5
}
